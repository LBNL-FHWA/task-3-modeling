{
 "cells": [
  {
   "cell_type": "markdown",
   "metadata": {},
   "source": [
    "# Task 3 model\n",
    "\n",
    "This notebook demonstrates some progress on developing the task three model. It is structured as a python 3 package, to allow the model to be run in a straightforward and intuitive way. We start by loading some packages"
   ]
  },
  {
   "cell_type": "code",
   "execution_count": 1,
   "metadata": {},
   "outputs": [],
   "source": [
    "import numpy as np\n",
    "import matplotlib.pyplot as plt\n",
    "from utils.microtype import Microtype\n",
    "from utils.network import Network, NetworkCollection, NetworkFlowParams, Mode, BusMode, BusModeParams"
   ]
  },
  {
   "cell_type": "markdown",
   "metadata": {},
   "source": [
    "We can then create some road networks. We're creating several stacked networks, because not all modes have access to all ROW"
   ]
  },
  {
   "cell_type": "code",
   "execution_count": 2,
   "metadata": {},
   "outputs": [],
   "source": [
    "network_params_car = NetworkFlowParams(0.068, 15.42, 1.88, 0.145, 0.177, 50)\n",
    "\n",
    "network_car = Network(1000, network_params_car)"
   ]
  },
  {
   "cell_type": "markdown",
   "metadata": {},
   "source": [
    "Given that set of networks, we can define the set of modes that operate on these networks. In defining the bus mode, we tell it the number of buses operating in the microtype, which is assumed to be fixed."
   ]
  },
  {
   "cell_type": "code",
   "execution_count": 3,
   "metadata": {},
   "outputs": [],
   "source": [
    "car = Mode([network_car], 'car')"
   ]
  },
  {
   "cell_type": "markdown",
   "metadata": {},
   "source": [
    "This network is enough to define a microtype"
   ]
  },
  {
   "cell_type": "code",
   "execution_count": 4,
   "metadata": {},
   "outputs": [],
   "source": [
    "m = Microtype(NetworkCollection([network_car]))"
   ]
  },
  {
   "cell_type": "markdown",
   "metadata": {},
   "source": [
    "From there, we can add demand for different modes"
   ]
  },
  {
   "cell_type": "code",
   "execution_count": 5,
   "metadata": {},
   "outputs": [
    {
     "name": "stdout",
     "output_type": "stream",
     "text": [
      "[11.766850941092859]\n",
      "[11.333415739624723]\n",
      "[11.244856812061876]\n",
      "[11.225372760361322]\n",
      "[11.221019315602955]\n",
      "[11.220043272470607]\n"
     ]
    }
   ],
   "source": [
    "m.setModeDemand('car', 6 / 60, 1000.0)"
   ]
  },
  {
   "cell_type": "markdown",
   "metadata": {},
   "source": [
    "Once you add demand, the microtype iterates until it has reached a steady state equilibrium. In doing so, it prints the car speed on each of the subnetworks. Note that the car speed on the mixed and car only subnetworks are equal, which is a condition for user equilibrium."
   ]
  },
  {
   "cell_type": "markdown",
   "metadata": {},
   "source": [
    "Increasing the demand leads to slower average speeds"
   ]
  },
  {
   "cell_type": "code",
   "execution_count": 6,
   "metadata": {},
   "outputs": [
    {
     "name": "stdout",
     "output_type": "stream",
     "text": [
      "[10.247235820129223]\n",
      "[9.832265319379172]\n",
      "[9.626187079799555]\n",
      "[9.516667625116222]\n",
      "[9.456434673615284]\n",
      "[9.42269406809721]\n",
      "[9.40360095416427]\n",
      "[9.392734848814039]\n",
      "[9.386530840355531]\n",
      "[9.382982143338259]\n",
      "[9.38095015457461]\n",
      "[9.379785936110176]\n",
      "[9.379118673150316]\n"
     ]
    }
   ],
   "source": [
    "m.setModeDemand('car', 8 / 60, 1000.0)"
   ]
  },
  {
   "cell_type": "markdown",
   "metadata": {},
   "source": [
    "We can see how this changes for different levels of demand"
   ]
  },
  {
   "cell_type": "code",
   "execution_count": 7,
   "metadata": {},
   "outputs": [
    {
     "data": {
      "text/plain": [
       "Text(0.5, 0, 'Total demand')"
      ]
     },
     "execution_count": 7,
     "metadata": {},
     "output_type": "execute_result"
    },
    {
     "data": {
      "image/png": "[encoded data removed]",
      "text/plain": [
       "<Figure size 432x288 with 1 Axes>"
      ]
     },
     "metadata": {
      "needs_background": "light"
     },
     "output_type": "display_data"
    },
    {
     "data": {
      "image/png": "[encoded data removed]",
      "text/plain": [
       "<Figure size 432x288 with 1 Axes>"
      ]
     },
     "metadata": {
      "needs_background": "light"
     },
     "output_type": "display_data"
    }
   ],
   "source": [
    "m.networks.verbose = False\n",
    "demands = np.arange(1/60,8/60,0.25/60)\n",
    "speeds = []\n",
    "flows = []\n",
    "Ns = []\n",
    "for i in demands:\n",
    "    m.setModeDemand('car', i, 1000.0)\n",
    "    flows.append(m.getModeFlow('car'))\n",
    "    speeds.append(m.networks.modes['car'].getSpeed())\n",
    "    Ns.append(list(m.networks.modes['car']._N.values())[0])\n",
    "\n",
    "plt.figure()\n",
    "plt.plot(Ns,demands)\n",
    "plt.xlabel('Number of cars')\n",
    "plt.ylabel('Total demand')\n",
    "plt.figure()\n",
    "plt.plot(demands,speeds)\n",
    "plt.ylabel('Speed')\n",
    "plt.xlabel('Total demand')"
   ]
  },
  {
   "cell_type": "markdown",
   "metadata": {},
   "source": [
    "We can also create stacks of sub-networks within a microtype. Here, we have one sub-network just for cars and one for cars and buses in mixed traffic"
   ]
  },
  {
   "cell_type": "code",
   "execution_count": 8,
   "metadata": {},
   "outputs": [],
   "source": [
    "network_params_mixed = NetworkFlowParams(0.068, 15.42, 1.88, 0.145, 0.177, 50)\n",
    "network_params_car = NetworkFlowParams(0.068, 15.42, 1.88, 0.145, 0.177, 50)\n",
    "\n",
    "network_car = Network(750, network_params_car)\n",
    "network_mixed = Network(250, network_params_mixed)\n",
    "\n",
    "car = Mode([network_mixed, network_car], 'car')\n",
    "bus = BusMode([network_mixed], BusModeParams(1.0))\n",
    "nc2 = NetworkCollection([network_mixed, network_car])\n",
    "\n",
    "m2 = Microtype(nc2)"
   ]
  },
  {
   "cell_type": "markdown",
   "metadata": {},
   "source": [
    "We can add bus and car demand to the microtype"
   ]
  },
  {
   "cell_type": "code",
   "execution_count": 9,
   "metadata": {},
   "outputs": [
    {
     "name": "stdout",
     "output_type": "stream",
     "text": [
      "[10.205105804011254, 11.293535516899198]\n",
      "[10.205105804011254, 10.275087354920153]\n",
      "[9.936286850294481, 9.936286850294481]\n",
      "[9.812652940302918, 9.812652940302922]\n",
      "[9.765187272361837, 9.765187272361837]\n",
      "[9.746616018339697, 9.746616018339697]\n",
      "[9.739296480545834, 9.739296480545834]\n",
      "[9.736403307546022, 9.736403307546022]\n",
      "[9.735258433413614, 9.735258433413614]\n",
      "[9.734805185430108, 9.73480518543011]\n",
      "[9.734625715738133, 9.734625715738133]\n",
      "[9.734554647282248, 9.734554647282252]\n",
      "[9.734526504001124, 9.734526504001124]\n",
      "[9.734515359070619, 9.734515359070617]\n"
     ]
    },
    {
     "data": {
      "text/plain": [
       "[5.274005161526256, 9.734515359070617]"
      ]
     },
     "execution_count": 9,
     "metadata": {},
     "output_type": "execute_result"
    }
   ],
   "source": [
    "m2.setModeDemand('car', 0.1, 1000.0)\n",
    "m2.setModeDemand('bus', 0.03, 1000.0)\n",
    "m2.getSpeeds()"
   ]
  },
  {
   "cell_type": "markdown",
   "metadata": {},
   "source": [
    "With this, we can explore the costs for different combinations of bus and car demand. This shows that the higher the overall demand, the more bus mode is in the optimal solution, at least until the buses get too full"
   ]
  },
  {
   "cell_type": "code",
   "execution_count": 10,
   "metadata": {},
   "outputs": [
    {
     "data": {
      "image/png": "[encoded data removed]",
      "text/plain": [
       "<Figure size 576x360 with 2 Axes>"
      ]
     },
     "metadata": {
      "needs_background": "light"
     },
     "output_type": "display_data"
    }
   ],
   "source": [
    "total_demands = np.arange(0.005, 0.2, 0.002)\n",
    "mode_splits = np.arange(0.3, 1.0, 0.05)\n",
    "\n",
    "average_costs = np.zeros((np.size(total_demands), np.size(mode_splits)))\n",
    "flows = np.zeros((np.size(total_demands), np.size(mode_splits)))\n",
    "car_speeds = np.zeros((np.size(total_demands), np.size(mode_splits)))\n",
    "headways = np.zeros((np.size(total_demands), np.size(mode_splits)))\n",
    "occupancies = np.zeros((np.size(total_demands), np.size(mode_splits)))\n",
    "\n",
    "for ii in range(np.size(total_demands)):\n",
    "    for jj in range(np.size(mode_splits)):\n",
    "        car_demand = total_demands[ii] * mode_splits[jj]\n",
    "        bus_demand = total_demands[ii] * (1.0 - mode_splits[jj])\n",
    "        network_car = Network(750, network_params_car)\n",
    "        network_mixed = Network(200, network_params_mixed)\n",
    "        car = Mode([network_mixed, network_car], 'car')\n",
    "        bus = BusMode([network_mixed], BusModeParams(1.0))\n",
    "        nc = NetworkCollection([network_mixed, network_car], False)\n",
    "        m = Microtype(nc)\n",
    "        m.setModeDemand('car', car_demand, 1000.0)\n",
    "        m.setModeDemand('bus', bus_demand, 1000.0)\n",
    "        flows[ii, jj] = np.sum(m.getFlows())\n",
    "        car_speeds[ii, jj] = m.getModeSpeed('car')\n",
    "        average_costs[ii, jj] = np.sum(m.getTotalTimes()) / np.sum(m.getFlows())\n",
    "        headways[ii, jj] = bus.getHeadway()\n",
    "        occupancies[ii, jj] = bus.getOccupancy()\n",
    "\n",
    "fig1 = plt.figure(figsize=(8, 5))\n",
    "\n",
    "p1 = plt.contourf(mode_splits, total_demands, average_costs)  # , np.arange(0.08, 0.35, 0.02))\n",
    "cb1 = plt.colorbar(p1)\n",
    "\n",
    "cb1.set_label('Average Travel Speed (m/s)')\n",
    "\n",
    "plt.ylabel('Total Demand (trip starts / time)')\n",
    "plt.xlabel('Car Mode Share')\n",
    "\n",
    "g1 = np.gradient(average_costs)\n",
    "\n",
    "slope = g1[1] / g1[0]\n",
    "\n",
    "p3 = plt.contour(mode_splits, total_demands, slope, 0, linestyles='dashed', linewidths=2,\n",
    "                 cmap='Reds')\n"
   ]
  },
  {
   "cell_type": "code",
   "execution_count": null,
   "metadata": {},
   "outputs": [],
   "source": []
  }
 ],
 "metadata": {
  "kernelspec": {
   "display_name": "Python 3",
   "language": "python",
   "name": "python3"
  },
  "language_info": {
   "codemirror_mode": {
    "name": "ipython",
    "version": 3
   },
   "file_extension": ".py",
   "mimetype": "text/x-python",
   "name": "python",
   "nbconvert_exporter": "python",
   "pygments_lexer": "ipython3",
   "version": "3.7.7"
  }
 },
 "nbformat": 4,
 "nbformat_minor": 4
}
