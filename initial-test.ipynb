{
 "cells": [
  {
   "cell_type": "markdown",
   "metadata": {},
   "source": [
    "# Task 3 model\n",
    "\n",
    "This notebook demonstrates some progress on developing the task three model. It is structured as a python 3 package, to allow the model to be run in a straightforward and intuitive way. We start by loading some packages"
   ]
  },
  {
   "cell_type": "code",
   "execution_count": 1,
   "metadata": {},
   "outputs": [],
   "source": [
    "import numpy as np\n",
    "import matplotlib.pyplot as plt\n",
    "from utils.microtype import Microtype\n",
    "from utils.network import Network, NetworkCollection, NetworkFlowParams, Mode, BusMode, BusModeParams"
   ]
  },
  {
   "cell_type": "markdown",
   "metadata": {},
   "source": [
    "We can then create some road networks. We're creating several stacked networks, because not all modes have access to all ROW"
   ]
  },
  {
   "cell_type": "code",
   "execution_count": 2,
   "metadata": {},
   "outputs": [],
   "source": [
    "network_params_car = NetworkFlowParams(0.068, 15.42, 1.88, 0.145, 0.177, 50)\n",
    "\n",
    "network_car = Network(1000, network_params_car)\n"
   ]
  },
  {
   "cell_type": "markdown",
   "metadata": {},
   "source": [
    "Given that set of networks, we can define the set of modes that operate on these networks. In defining the bus mode, we tell it the number of buses operating in the microtype, which is assumed to be fixed."
   ]
  },
  {
   "cell_type": "code",
   "execution_count": 3,
   "metadata": {},
   "outputs": [],
   "source": [
    "car = Mode([network_car], 'car')"
   ]
  },
  {
   "cell_type": "markdown",
   "metadata": {},
   "source": [
    "Next, we gather these networks together into a `network collection`:"
   ]
  },
  {
   "cell_type": "code",
   "execution_count": 4,
   "metadata": {},
   "outputs": [],
   "source": [
    "nc = NetworkCollection([network_car])"
   ]
  },
  {
   "cell_type": "markdown",
   "metadata": {},
   "source": [
    "This collection of subnetworks and modes is enough to define a microtype"
   ]
  },
  {
   "cell_type": "code",
   "execution_count": 5,
   "metadata": {},
   "outputs": [],
   "source": [
    "m = Microtype(nc)"
   ]
  },
  {
   "cell_type": "markdown",
   "metadata": {},
   "source": [
    "From there, we can add demand for different modes"
   ]
  },
  {
   "cell_type": "code",
   "execution_count": 6,
   "metadata": {},
   "outputs": [
    {
     "name": "stdout",
     "output_type": "stream",
     "text": [
      "[11.766850941092859]\n",
      "[11.333415739624723]\n",
      "[11.244856812061876]\n",
      "[11.225372760361322]\n",
      "[11.221019315602955]\n",
      "[11.220043272470607]\n"
     ]
    }
   ],
   "source": [
    "m.setModeDemand('car', 6 / 60, 1000.0)"
   ]
  },
  {
   "cell_type": "markdown",
   "metadata": {},
   "source": [
    "Once you add demand, the microtype iterates until it has reached a steady state equilibrium. In doing so, it prints the car speed on each of the subnetworks. Note that the car speed on the mixed and car only subnetworks are equal, which is a condition for user equilibrium."
   ]
  },
  {
   "cell_type": "markdown",
   "metadata": {},
   "source": [
    "Increasing the demand leads to slower average speeds"
   ]
  },
  {
   "cell_type": "code",
   "execution_count": 7,
   "metadata": {},
   "outputs": [
    {
     "name": "stdout",
     "output_type": "stream",
     "text": [
      "[9.698381452570876]\n",
      "[8.90703401799762]\n",
      "[8.398809003695161]\n",
      "[8.034150070322344]\n",
      "[7.753604381636072]\n",
      "[7.527023696609355]\n",
      "[7.33727838232626]\n",
      "[7.173813573223144]\n",
      "[7.029713372216406]\n",
      "[6.900219262486594]\n",
      "[6.78192163488475]\n",
      "[6.672290365834595]\n",
      "[6.569388003714883]\n",
      "[6.471686788301766]\n",
      "[6.377947397346785]\n",
      "[6.287135753694337]\n",
      "[6.198363999328206]\n",
      "[6.11084715696647]\n",
      "[6.023870112793211]\n",
      "[5.936761398818774]\n"
     ]
    }
   ],
   "source": [
    "m.setModeDemand('car', 9 / 60, 1000.0)"
   ]
  },
  {
   "cell_type": "markdown",
   "metadata": {},
   "source": [
    "We can see how this changes for different levels of demand"
   ]
  },
  {
   "cell_type": "code",
   "execution_count": 12,
   "metadata": {},
   "outputs": [
    {
     "name": "stdout",
     "output_type": "stream",
     "text": [
      "[14.693334880773914, 14.499581959575753, 14.300037082025185, 14.094310887115746, 13.881737522005343, 13.661587463955161, 13.432992901220326, 13.194908405187814, 12.945793398593786, 12.68441427727458, 12.408560324802574, 12.115236560058007, 11.872792130334934, 11.835329165555851, 11.78519190936441, 11.722723252722698, 11.648039065263081, 11.560792702256755, 11.46090408654838, 11.347631607656137, 11.219832017664071, 11.076586496968723, 10.916109468422205, 10.735800765443004, 10.53325672231032, 10.303668904209886, 10.04152876505085, 9.738091644898159, 9.379489127023843, 8.939547020342994, 8.364911206543715, 7.4907668478595]\n"
     ]
    },
    {
     "data": {
      "text/plain": [
       "[<matplotlib.lines.Line2D at 0x11efd4d50>]"
      ]
     },
     "execution_count": 12,
     "metadata": {},
     "output_type": "execute_result"
    },
    {
     "data": {
      "image/png": "[encoded data removed]",
      "text/plain": [
       "<Figure size 432x288 with 1 Axes>"
      ]
     },
     "metadata": {
      "needs_background": "light"
     },
     "output_type": "display_data"
    },
    {
     "data": {
      "image/png": "[encoded data removed]",
      "text/plain": [
       "<Figure size 432x288 with 1 Axes>"
      ]
     },
     "metadata": {
      "needs_background": "light"
     },
     "output_type": "display_data"
    }
   ],
   "source": [
    "nc.verbose = False\n",
    "demands = np.arange(1/60,9/60,0.25/60)\n",
    "speeds = []\n",
    "flows = []\n",
    "Ns = []\n",
    "for i in demands:\n",
    "    m.setModeDemand('car', i, 1000.0)\n",
    "    flows.append(m.getModeFlow('car'))\n",
    "    speeds.append(m.networks.modes['car'].getSpeed())\n",
    "    Ns.append(list(m.networks.modes['car']._N.values())[0])\n",
    "print(speeds)\n",
    "#plt.plot(demands,speeds)\n",
    "plt.figure()\n",
    "plt.plot(Ns,demands)\n",
    "plt.figure()\n",
    "plt.plot(demands,speeds)"
   ]
  },
  {
   "cell_type": "markdown",
   "metadata": {},
   "source": [
    "We can also create stacks of sub-networks within a microtype. Here, we have one sub-network just for cars and one for cars and buses in mixed traffic"
   ]
  },
  {
   "cell_type": "code",
   "execution_count": 13,
   "metadata": {},
   "outputs": [],
   "source": [
    "network_params_mixed = NetworkFlowParams(0.068, 15.42, 1.88, 0.145, 0.177, 50)\n",
    "network_params_car = NetworkFlowParams(0.068, 15.42, 1.88, 0.145, 0.177, 50)\n",
    "\n",
    "network_car = Network(750, network_params_car)\n",
    "network_mixed = Network(250, network_params_mixed)\n",
    "\n",
    "car = Mode([network_mixed, network_car], 'car')\n",
    "bus = BusMode([network_mixed], BusModeParams(1.0))\n",
    "nc2 = NetworkCollection([network_mixed, network_car])\n",
    "\n",
    "m2 = Microtype(nc2)"
   ]
  },
  {
   "cell_type": "markdown",
   "metadata": {},
   "source": [
    "We can add bus and car demand to the microtype"
   ]
  },
  {
   "cell_type": "code",
   "execution_count": 14,
   "metadata": {},
   "outputs": [
    {
     "name": "stdout",
     "output_type": "stream",
     "text": [
      "[10.205105804011254, 11.293535516899198]\n",
      "[10.205105804011254, 10.275087354920153]\n",
      "[9.936286850294481, 9.936286850294481]\n",
      "[9.812652940302918, 9.812652940302922]\n",
      "[9.765187272361837, 9.765187272361837]\n",
      "[9.746616018339697, 9.746616018339697]\n",
      "[9.739296480545834, 9.739296480545834]\n",
      "[9.736403307546022, 9.736403307546022]\n",
      "[9.735258433413614, 9.735258433413614]\n",
      "[9.734805185430108, 9.73480518543011]\n",
      "[9.734625715738133, 9.734625715738133]\n",
      "[9.734554647282248, 9.734554647282252]\n",
      "[9.734526504001124, 9.734526504001124]\n",
      "[9.734515359070619, 9.734515359070617]\n"
     ]
    },
    {
     "data": {
      "text/plain": [
       "[9.734515359070617, 5.274005161526256]"
      ]
     },
     "execution_count": 14,
     "metadata": {},
     "output_type": "execute_result"
    }
   ],
   "source": [
    "m2.setModeDemand('car', 0.1, 1000.0)\n",
    "m2.setModeDemand('bus', 0.03, 1000.0)\n",
    "m2.getSpeeds()"
   ]
  },
  {
   "cell_type": "code",
   "execution_count": null,
   "metadata": {},
   "outputs": [],
   "source": []
  }
 ],
 "metadata": {
  "kernelspec": {
   "display_name": "Python 3",
   "language": "python",
   "name": "python3"
  },
  "language_info": {
   "codemirror_mode": {
    "name": "ipython",
    "version": 3
   },
   "file_extension": ".py",
   "mimetype": "text/x-python",
   "name": "python",
   "nbconvert_exporter": "python",
   "pygments_lexer": "ipython3",
   "version": "3.7.7"
  }
 },
 "nbformat": 4,
 "nbformat_minor": 4
}
