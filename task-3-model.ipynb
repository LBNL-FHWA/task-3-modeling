{
 "cells": [
  {
   "cell_type": "markdown",
   "metadata": {},
   "source": [
    "# Task 3 model implementation"
   ]
  },
  {
   "cell_type": "code",
   "execution_count": 1,
   "metadata": {},
   "outputs": [],
   "source": [
    "import numpy as np\n",
    "import pandas as pd\n",
    "\n",
    "from model import Model, Optimizer, NetworkModification, TransitScheduleModification"
   ]
  },
  {
   "cell_type": "markdown",
   "metadata": {},
   "source": [
    "Creating a model implementation only requires pointing to a folder with all the necessary input data. Here, we have a region with 4 microtypes and four modes (walk, bus, auto, and rail), with rail only service two of the four microtypes\n",
    "\n",
    "Once the model is created, you find supply/demand equilibrium and gather statistics such as mode splits, speeds, and user costs for an individual time period or for the whole day."
   ]
  },
  {
   "cell_type": "code",
   "execution_count": 2,
   "metadata": {},
   "outputs": [
    {
     "name": "stdout",
     "output_type": "stream",
     "text": [
      "['rail: 0.3002507323611534', 'bus: 0.052142249598278644', 'auto: 0.6260030338362748', 'walk: 0.021603984204292895']\n",
      "              A          B         C          D\n",
      "rail  15.000000        NaN       NaN  20.000000\n",
      "bus    7.583615   6.609926  6.708750   8.137854\n",
      "auto  11.704067  10.227068  9.006314   9.806818\n",
      "walk   1.400000   1.400000  1.400000   1.400000\n",
      "Total user costs = 142723.73117455945\n"
     ]
    }
   ],
   "source": [
    "model= Model(\"input-data\")\n",
    "\n",
    "userCosts, operatorCosts = model.collectAllCosts()\n",
    "modeSplit = model.getModeSplit('AM-Peak')\n",
    "speeds = model.getModeSpeeds('AM-Peak')\n",
    "print(modeSplit)\n",
    "print(speeds)\n",
    "print(\"Total user costs =\", userCosts.total)"
   ]
  },
  {
   "cell_type": "markdown",
   "metadata": {},
   "source": [
    "Once a model is created, there are a set of objects and methods that make it easy to modify the transportation system without needing to change the original input files.\n",
    "\n",
    "Here, we will devote some road space to dedicated bus lanes. In particular, we are transitioning 1000 lane-meters of roadway from mixed bus/car traffic to bus-only lanes in microtypes A and B:"
   ]
  },
  {
   "cell_type": "code",
   "execution_count": 7,
   "metadata": {},
   "outputs": [],
   "source": [
    "networkModification = NetworkModification(np.array([1000., 1000.]), list(zip([2, 4], [13, 14])))\n",
    "model.modifyNetworks(networkModification = networkModification)"
   ]
  },
  {
   "cell_type": "markdown",
   "metadata": {},
   "source": [
    "Once these changes are made, we can re-equilibrate the model and look at how metrics have changed. Here, we have (slightly) increased the bus mode share, in large part by increasing average bus speed in Microtypes A and B. However, because we have decreased auto speeds in these two microtypes, total user costs have gone up."
   ]
  },
  {
   "cell_type": "code",
   "execution_count": 8,
   "metadata": {},
   "outputs": [
    {
     "name": "stdout",
     "output_type": "stream",
     "text": [
      "['walk: 0.02090659645903792', 'rail: 0.29754131019430363', 'bus: 0.06969772707237483', 'auto: 0.6118543662742836']\n",
      "              A         B         C          D\n",
      "walk   1.400000  1.400000  1.400000   1.400000\n",
      "rail  15.000000       NaN       NaN  20.000000\n",
      "bus    8.567903  7.152835  6.657390   8.139983\n",
      "auto  11.197462  9.735467  9.196198   9.875834\n",
      "Total user costs = 143588.21984194775\n"
     ]
    }
   ],
   "source": [
    "userCosts, operatorCosts = model.collectAllCosts()\n",
    "modeSplit = model.getModeSplit('AM-Peak')\n",
    "speeds = model.getModeSpeeds('AM-Peak')\n",
    "print(modeSplit)\n",
    "print(speeds)\n",
    "print(\"Total user costs =\", userCosts.total)"
   ]
  },
  {
   "cell_type": "markdown",
   "metadata": {},
   "source": [
    "You can also modify the headways for the different transit modes. Here, we can decrease the headway of the bus mode in Microtype A to 200 seconds."
   ]
  },
  {
   "cell_type": "code",
   "execution_count": 5,
   "metadata": {},
   "outputs": [
    {
     "name": "stdout",
     "output_type": "stream",
     "text": [
      "['walk: 0.021035070435338414', 'rail: 0.29795688960528594', 'bus: 0.06481848718333258', 'auto: 0.616189552776043']\n",
      "              A         B         C          D\n",
      "walk   1.400000  1.400000  1.400000   1.400000\n",
      "rail  15.000000       NaN       NaN  20.000000\n",
      "bus    7.858933  7.207186  6.674080   8.120795\n",
      "auto  11.609340  9.660570  9.115997   9.834620\n",
      "Total user costs = 143431.86439415868\n"
     ]
    }
   ],
   "source": [
    "scheduleModification = TransitScheduleModification([200.0], [(\"A\", \"bus\")])\n",
    "model.modifyNetworks(scheduleModification = scheduleModification)\n",
    "userCosts, operatorCosts = model.collectAllCosts()\n",
    "modeSplit = model.getModeSplit('AM-Peak')\n",
    "speeds = model.getModeSpeeds('AM-Peak')\n",
    "print(modeSplit)\n",
    "print(speeds)\n",
    "print(\"Total user costs =\", userCosts.total)"
   ]
  },
  {
   "cell_type": "markdown",
   "metadata": {},
   "source": [
    "Here, we can see that the bus mode share went up (because of lower wait times). In addition, bus speeds in microtype A increased because there was less crowding on each bus, but bus speeds slightly decreased in the other microtypes because of the increase in bus ridership without a corresponding decrease in headways."
   ]
  },
  {
   "cell_type": "code",
   "execution_count": 6,
   "metadata": {},
   "outputs": [
    {
     "name": "stdout",
     "output_type": "stream",
     "text": [
      "              A          B          C          D\n",
      "walk   1.400000   1.400000   1.400000   1.400000\n",
      "rail  15.000000        NaN        NaN  20.000000\n",
      "bus    9.325562  10.851088  11.227732  11.512197\n",
      "auto  15.066836  15.020936  14.992872  14.883388\n"
     ]
    }
   ],
   "source": [
    "print(model.getModeSpeeds('Overnight'))"
   ]
  },
  {
   "cell_type": "code",
   "execution_count": null,
   "metadata": {},
   "outputs": [],
   "source": []
  }
 ],
 "metadata": {
  "kernelspec": {
   "display_name": "Python 3",
   "language": "python",
   "name": "python3"
  },
  "language_info": {
   "codemirror_mode": {
    "name": "ipython",
    "version": 3
   },
   "file_extension": ".py",
   "mimetype": "text/x-python",
   "name": "python",
   "nbconvert_exporter": "python",
   "pygments_lexer": "ipython3",
   "version": "3.7.7"
  }
 },
 "nbformat": 4,
 "nbformat_minor": 4
}
