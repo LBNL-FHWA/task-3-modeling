{
 "cells": [
  {
   "cell_type": "markdown",
   "metadata": {},
   "source": [
    "# Task 3 model implementation"
   ]
  },
  {
   "cell_type": "code",
   "execution_count": 1,
   "metadata": {},
   "outputs": [],
   "source": [
    "import numpy as np\n",
    "import pandas as pd\n",
    "import matplotlib.pyplot as plt\n",
    "\n",
    "from model import Model, Optimizer, NetworkModification, TransitScheduleModification"
   ]
  },
  {
   "cell_type": "markdown",
   "metadata": {},
   "source": [
    "Creating a model implementation only requires pointing to a folder with all the necessary input data. Here, we have a region with 4 microtypes and four modes (walk, bus, auto, and rail), with rail only service two of the four microtypes\n",
    "\n",
    "Once the model is created, you find supply/demand equilibrium and gather statistics such as mode splits, speeds, and user costs for an individual time period or for the whole day."
   ]
  },
  {
   "cell_type": "code",
   "execution_count": 2,
   "metadata": {},
   "outputs": [
    {
     "name": "stdout",
     "output_type": "stream",
     "text": [
      "['bus: 0.05214259737806823', 'auto: 0.6260025101042426', 'walk: 0.021604016257977636', 'rail: 0.3002508762597117']\n",
      "              A          B         C          D\n",
      "bus    7.583612   6.609924  6.708784   8.137864\n",
      "auto  11.704070  10.227062  9.006084   9.806835\n",
      "walk   1.400000   1.400000  1.400000   1.400000\n",
      "rail  15.000000        NaN       NaN  20.000000\n",
      "Total user costs = 142723.92991274485\n"
     ]
    }
   ],
   "source": [
    "model = Model(\"input-data\")\n",
    "\n",
    "userCosts, operatorCosts = model.collectAllCosts()\n",
    "modeSplit = model.getModeSplit('AM-Peak')\n",
    "speeds = model.getModeSpeeds('AM-Peak')\n",
    "print(modeSplit)\n",
    "print(speeds)\n",
    "print(\"Total user costs =\", userCosts.total)"
   ]
  },
  {
   "cell_type": "markdown",
   "metadata": {},
   "source": [
    "Once a model is created, there are a set of objects and methods that make it easy to modify the transportation system without needing to change the original input files.\n",
    "\n",
    "Here, we will devote some road space to dedicated bus lanes. In particular, we are transitioning 1000 lane-meters of roadway from mixed bus/car traffic to bus-only lanes in microtypes A and B:"
   ]
  },
  {
   "cell_type": "code",
   "execution_count": 3,
   "metadata": {},
   "outputs": [],
   "source": [
    "networkModification = NetworkModification(np.array([1000., 1000.]), list(zip([2, 4], [13, 14])))\n",
    "model.modifyNetworks(networkModification = networkModification)"
   ]
  },
  {
   "cell_type": "markdown",
   "metadata": {},
   "source": [
    "Once these changes are made, we can re-equilibrate the model and look at how metrics have changed. Here, we have (slightly) increased the bus mode share, in large part by increasing average bus speed in Microtypes A and B. However, because we have decreased auto speeds in these two microtypes, total user costs have gone up."
   ]
  },
  {
   "cell_type": "code",
   "execution_count": 4,
   "metadata": {},
   "outputs": [
    {
     "name": "stdout",
     "output_type": "stream",
     "text": [
      "['walk: 0.02157156306785649', 'auto: 0.6195548581230051', 'bus: 0.058451259752889', 'rail: 0.3004223190562496']\n",
      "              A         B         C          D\n",
      "walk   1.400000  1.400000  1.400000   1.400000\n",
      "auto  11.640533  9.625898  9.082415   9.829095\n",
      "bus    7.764352  7.281305  6.718737   8.125743\n",
      "rail  15.000000       NaN       NaN  20.000000\n",
      "Total user costs = 143492.5730709433\n"
     ]
    }
   ],
   "source": [
    "userCosts, operatorCosts = model.collectAllCosts()\n",
    "modeSplit = model.getModeSplit('AM-Peak')\n",
    "speeds = model.getModeSpeeds('AM-Peak')\n",
    "print(modeSplit)\n",
    "print(speeds)\n",
    "print(\"Total user costs =\", userCosts.total)"
   ]
  },
  {
   "cell_type": "markdown",
   "metadata": {},
   "source": [
    "You can also modify the headways for the different transit modes. Here, we can decrease the headway of the bus mode in Microtype A to 200 seconds."
   ]
  },
  {
   "cell_type": "code",
   "execution_count": 5,
   "metadata": {},
   "outputs": [
    {
     "name": "stdout",
     "output_type": "stream",
     "text": [
      "['bus: 0.06481848790383433', 'auto: 0.6161895532149635', 'walk: 0.021035071526424462', 'rail: 0.2979568873547777']\n",
      "              A         B         C          D\n",
      "bus    7.858933  7.207186  6.674079   8.120797\n",
      "auto  11.609340  9.660568  9.115994   9.834621\n",
      "walk   1.400000  1.400000  1.400000   1.400000\n",
      "rail  15.000000       NaN       NaN  20.000000\n",
      "Total user costs = 143431.86672395997\n"
     ]
    }
   ],
   "source": [
    "scheduleModification = TransitScheduleModification([200.0], [(\"A\", \"bus\")])\n",
    "model.modifyNetworks(scheduleModification = scheduleModification)\n",
    "userCosts, operatorCosts = model.collectAllCosts()\n",
    "modeSplit = model.getModeSplit('AM-Peak')\n",
    "speeds = model.getModeSpeeds('AM-Peak')\n",
    "print(modeSplit)\n",
    "print(speeds)\n",
    "print(\"Total user costs =\", userCosts.total)"
   ]
  },
  {
   "cell_type": "markdown",
   "metadata": {},
   "source": [
    "Here, we can see that the bus mode share went up (because of lower wait times). In addition, bus speeds in microtype A increased because there was less crowding on each bus, but bus speeds slightly decreased in the other microtypes because of the increase in bus ridership without a corresponding decrease in headways."
   ]
  },
  {
   "cell_type": "markdown",
   "metadata": {},
   "source": [
    "## Optimization wrapper\n",
    "\n",
    "In order to run optimization on the model, we can create an \"Optimizer\" object that contains a model implementation as well as a direct pathway to modifying model parameters.\n",
    "\n"
   ]
  },
  {
   "cell_type": "code",
   "execution_count": 6,
   "metadata": {},
   "outputs": [
    {
     "name": "stdout",
     "output_type": "stream",
     "text": [
      "Done\n"
     ]
    }
   ],
   "source": [
    "networksToReallocate = list(zip([2, 4, 6, 8], [13, 14, 15, 16]))\n",
    "modesToModify = list(zip([\"A\", \"B\", \"C\", \"D\"], [\"bus\", \"bus\", \"bus\", \"bus\"]))\n",
    "    \n",
    "o = Optimizer(\"input-data\",fromToSubNetworkIDs= networksToReallocate,\n",
    "                  modesAndMicrotypes= modesToModify,\n",
    "                  method=\"noisy\")\n",
    "default = o.x0()"
   ]
  },
  {
   "cell_type": "markdown",
   "metadata": {},
   "source": [
    "Once this model is initialized, we can evaluate the total costs in the base, unmodified state"
   ]
  },
  {
   "cell_type": "code",
   "execution_count": 7,
   "metadata": {},
   "outputs": [
    {
     "name": "stdout",
     "output_type": "stream",
     "text": [
      "[ 10.  10.  10.  10. 300. 300. 300. 300.]\n",
      "132662.04581372117\n"
     ]
    },
    {
     "data": {
      "text/plain": [
       "132662.04581372117"
      ]
     },
     "execution_count": 7,
     "metadata": {},
     "output_type": "execute_result"
    }
   ],
   "source": [
    "o.evaluate(default)"
   ]
  },
  {
   "cell_type": "markdown",
   "metadata": {},
   "source": [
    "Looking in the optimizer, we can get the state of the transportation system given the input control variable"
   ]
  },
  {
   "cell_type": "code",
   "execution_count": 8,
   "metadata": {},
   "outputs": [
    {
     "name": "stdout",
     "output_type": "stream",
     "text": [
      "['bus: 0.07154933217316435', 'auto: 0.6087601183546578', 'rail: 0.299733425235247', 'walk: 0.0199571242369304']\n",
      "              A          B         C          D\n",
      "bus    7.476487   6.974900  7.029189   8.181209\n",
      "auto  11.731406  10.316665  9.099145   9.788423\n",
      "rail  15.000000        NaN       NaN  20.000000\n",
      "walk   1.400000   1.400000  1.400000   1.400000\n"
     ]
    }
   ],
   "source": [
    "modeSplit = o.model.getModeSplit('AM-Peak')\n",
    "speeds = o.model.getModeSpeeds('AM-Peak')\n",
    "print(modeSplit)\n",
    "print(speeds)"
   ]
  },
  {
   "cell_type": "markdown",
   "metadata": {},
   "source": [
    "We can use this to look at the model performance under a range of inputs. Here we vary headway for buses in microtype A"
   ]
  },
  {
   "cell_type": "code",
   "execution_count": null,
   "metadata": {},
   "outputs": [
    {
     "name": "stdout",
     "output_type": "stream",
     "text": [
      "[ 10.  10.  10.  10. 180. 300. 300. 300.]\n",
      "135096.11310344512\n",
      "[ 10.  10.  10.  10. 240. 300. 300. 300.]\n",
      "133312.82413957175\n",
      "[ 10.  10.  10.  10. 300. 300. 300. 300.]\n",
      "132596.5832241072\n",
      "[ 10.  10.  10.  10. 360. 300. 300. 300.]\n",
      "132357.46000902145\n",
      "[ 10.  10.  10.  10. 420. 300. 300. 300.]\n",
      "132363.92828605592\n",
      "[ 10.  10.  10.  10. 480. 300. 300. 300.]\n",
      "132503.82450680074\n"
     ]
    }
   ],
   "source": [
    "    busHeadwayA = np.arange(180, 1260, 60)\n",
    "    speeds = dict()\n",
    "    modeSplits = dict()\n",
    "    totalCost = []\n",
    "    for hw in busHeadwayA:\n",
    "        default[4] = hw\n",
    "        cost = o.evaluate(default)\n",
    "        totalCost.append(cost)\n",
    "        speeds[str(hw)] = o.model.getModeSpeeds('AM-Peak').stack()\n",
    "        modeSplits[str(hw)] = pd.Series(o.model.getModeSplit('AM-Peak').toDict())\n",
    "        \n",
    "    speeds = pd.DataFrame(speeds).transpose()\n",
    "    modeSplits = pd.DataFrame(modeSplits).transpose()\n",
    "    \n",
    "    plt.scatter(busHeadwayA, totalCost)\n",
    "    plt.xlabel(\"Bus headway in Microtype A (sec)\")\n",
    "    plt.ylabel(\"Total Cost\")"
   ]
  },
  {
   "cell_type": "markdown",
   "metadata": {},
   "source": [
    "We can plot mode splits and speeds in the different microtypes"
   ]
  },
  {
   "cell_type": "code",
   "execution_count": null,
   "metadata": {},
   "outputs": [],
   "source": [
    "plt.scatter(busHeadwayA, modeSplits[\"bus\"], label=\"Bus\")\n",
    "plt.scatter(busHeadwayA, modeSplits[\"auto\"], label=\"Auto\")\n",
    "plt.scatter(busHeadwayA, modeSplits[\"walk\"], label=\"Walk\")\n",
    "plt.scatter(busHeadwayA, modeSplits[\"rail\"], label=\"Rail\")\n",
    "plt.xlabel(\"Bus headway in Microtype A (sec)\")\n",
    "plt.ylabel(\"Mode split\")\n",
    "plt.legend()"
   ]
  },
  {
   "cell_type": "code",
   "execution_count": null,
   "metadata": {},
   "outputs": [],
   "source": [
    "plt.scatter(busHeadwayA, speeds[(\"bus\", \"A\")], marker='s', label=\"Bus speed\")\n",
    "plt.scatter(busHeadwayA, speeds[(\"auto\", \"A\")], label=\"Auto speed A\")\n",
    "plt.scatter(busHeadwayA, speeds[(\"auto\", \"B\")], label=\"Auto speed B\", s=10)\n",
    "plt.scatter(busHeadwayA, speeds[(\"auto\", \"C\")], label=\"Auto speed C\", s=10)\n",
    "plt.scatter(busHeadwayA, speeds[(\"auto\", \"D\")], label=\"Auto speed D\", s=10)\n",
    "plt.xlabel(\"Bus headway in Microtype A (sec)\")\n",
    "plt.ylabel(\"Speed (m/s)\")\n",
    "plt.legend()"
   ]
  },
  {
   "cell_type": "markdown",
   "metadata": {},
   "source": [
    "We can also vary "
   ]
  },
  {
   "cell_type": "code",
   "execution_count": null,
   "metadata": {},
   "outputs": [],
   "source": [
    "    default = o.x0()\n",
    "    laneDedication = np.arange(0, 1000, 100)\n",
    "    speeds = dict()\n",
    "    modeSplits = dict()\n",
    "    totalCost = []\n",
    "    for ded in laneDedication:\n",
    "        default[0] = ded\n",
    "        cost = o.evaluate(default)\n",
    "        totalCost.append(cost)\n",
    "        speeds[str(ded)] = o.model.getModeSpeeds('AM-Peak').stack()\n",
    "        modeSplits[str(ded)] = pd.Series(o.model.getModeSplit('AM-Peak').toDict())\n",
    "        \n",
    "    speeds = pd.DataFrame(speeds).transpose()\n",
    "    modeSplits = pd.DataFrame(modeSplits).transpose()\n",
    "    \n",
    "    \n",
    "    plt.scatter(laneDedication, totalCost)\n",
    "    plt.xlabel(\"Bus dedicated lanes in Microtype A (m)\")\n",
    "    plt.ylabel(\"Total Cost\")"
   ]
  },
  {
   "cell_type": "code",
   "execution_count": null,
   "metadata": {},
   "outputs": [],
   "source": [
    "plt.scatter(laneDedication, speeds[(\"bus\", \"A\")], marker='s', label=\"Bus speed\")\n",
    "plt.scatter(laneDedication, speeds[(\"auto\", \"A\")], label=\"Auto speed A\")\n",
    "plt.scatter(laneDedication, speeds[(\"auto\", \"B\")], label=\"Auto speed B\", s=10)\n",
    "plt.scatter(laneDedication, speeds[(\"auto\", \"C\")], label=\"Auto speed C\", s=10)\n",
    "plt.scatter(laneDedication, speeds[(\"auto\", \"D\")], label=\"Auto speed D\", s=10)\n",
    "plt.xlabel(\"Bus dedicated lanes in Microtype A (m)\")\n",
    "plt.ylabel(\"Speed (m/s)\")\n",
    "plt.legend()"
   ]
  },
  {
   "cell_type": "code",
   "execution_count": null,
   "metadata": {},
   "outputs": [],
   "source": []
  }
 ],
 "metadata": {
  "kernelspec": {
   "display_name": "Python 3",
   "language": "python",
   "name": "python3"
  },
  "language_info": {
   "codemirror_mode": {
    "name": "ipython",
    "version": 3
   },
   "file_extension": ".py",
   "mimetype": "text/x-python",
   "name": "python",
   "nbconvert_exporter": "python",
   "pygments_lexer": "ipython3",
   "version": "3.7.7"
  }
 },
 "nbformat": 4,
 "nbformat_minor": 4
}
