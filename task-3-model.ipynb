{
 "cells": [
  {
   "cell_type": "markdown",
   "metadata": {},
   "source": [
    "# Task 3 model implementation"
   ]
  },
  {
   "cell_type": "code",
   "execution_count": 1,
   "metadata": {},
   "outputs": [],
   "source": [
    "import numpy as np\n",
    "import pandas as pd\n",
    "import matplotlib.pyplot as plt\n",
    "\n",
    "from model import Model, Optimizer, NetworkModification, TransitScheduleModification"
   ]
  },
  {
   "cell_type": "markdown",
   "metadata": {},
   "source": [
    "Creating a model implementation only requires pointing to a folder with all the necessary input data. Here, we have a region with 4 microtypes and four modes (walk, bus, auto, and rail), with rail only service two of the four microtypes\n",
    "\n",
    "Once the model is created, you find supply/demand equilibrium and gather statistics such as mode splits, speeds, and user costs for an individual time period or for the whole day."
   ]
  },
  {
   "cell_type": "code",
   "execution_count": 2,
   "metadata": {},
   "outputs": [
    {
     "name": "stdout",
     "output_type": "stream",
     "text": [
      "['bus: 0.052142591417491786', 'walk: 0.02160401702838168', 'rail: 0.3002508788784096', 'auto: 0.6260025126757168']\n",
      "              A          B         C          D\n",
      "bus    7.583612   6.609923  6.708781   8.137865\n",
      "walk   1.400000   1.400000  1.400000   1.400000\n",
      "rail  15.000000        NaN       NaN  20.000000\n",
      "auto  11.704070  10.227063  9.006079   9.806835\n",
      "Total user costs = 142723.94205726232\n"
     ]
    }
   ],
   "source": [
    "model = Model(\"input-data\")\n",
    "\n",
    "userCosts, operatorCosts = model.collectAllCosts()\n",
    "modeSplit = model.getModeSplit('AM-Peak')\n",
    "speeds = model.getModeSpeeds('AM-Peak')\n",
    "print(modeSplit)\n",
    "print(speeds)\n",
    "print(\"Total user costs =\", userCosts.total)"
   ]
  },
  {
   "cell_type": "markdown",
   "metadata": {},
   "source": [
    "Once a model is created, there are a set of objects and methods that make it easy to modify the transportation system without needing to change the original input files.\n",
    "\n",
    "Here, we will devote some road space to dedicated bus lanes. In particular, we are transitioning 1000 lane-meters of roadway from mixed bus/car traffic to bus-only lanes in microtypes A and B:"
   ]
  },
  {
   "cell_type": "code",
   "execution_count": 3,
   "metadata": {},
   "outputs": [],
   "source": [
    "networkModification = NetworkModification(np.array([1000., 1000.]), list(zip([2, 4], [13, 14])))\n",
    "model.modifyNetworks(networkModification = networkModification)"
   ]
  },
  {
   "cell_type": "markdown",
   "metadata": {},
   "source": [
    "Once these changes are made, we can re-equilibrate the model and look at how metrics have changed. Here, we have (slightly) increased the bus mode share, in large part by increasing average bus speed in Microtypes A and B. However, because we have decreased auto speeds in these two microtypes, total user costs have gone up."
   ]
  },
  {
   "cell_type": "code",
   "execution_count": 4,
   "metadata": {},
   "outputs": [
    {
     "name": "stdout",
     "output_type": "stream",
     "text": [
      "['bus: 0.0584514613570315', 'walk: 0.021571581608894795', 'rail: 0.30042240870551984', 'auto: 0.6195545483285535']\n",
      "              A         B         C          D\n",
      "bus    7.764350  7.281306  6.718741   8.125752\n",
      "walk   1.400000  1.400000  1.400000   1.400000\n",
      "rail  15.000000       NaN       NaN  20.000000\n",
      "auto  11.640535  9.625910  9.082246   9.829107\n",
      "Total user costs = 143492.70881933466\n"
     ]
    }
   ],
   "source": [
    "userCosts, operatorCosts = model.collectAllCosts()\n",
    "modeSplit = model.getModeSplit('AM-Peak')\n",
    "speeds = model.getModeSpeeds('AM-Peak')\n",
    "print(modeSplit)\n",
    "print(speeds)\n",
    "print(\"Total user costs =\", userCosts.total)"
   ]
  },
  {
   "cell_type": "markdown",
   "metadata": {},
   "source": [
    "You can also modify the headways for the different transit modes. Here, we can decrease the headway of the bus mode in Microtype A to 200 seconds."
   ]
  },
  {
   "cell_type": "code",
   "execution_count": 5,
   "metadata": {},
   "outputs": [
    {
     "name": "stdout",
     "output_type": "stream",
     "text": [
      "['walk: 0.021035088065648428', 'bus: 0.06481824119039714', 'rail: 0.297956955291959', 'auto: 0.6161897154519953']\n",
      "              A         B         C          D\n",
      "walk   1.400000  1.400000  1.400000   1.400000\n",
      "bus    7.858935  7.207189  6.673951   8.120800\n",
      "rail  15.000000       NaN       NaN  20.000000\n",
      "auto  11.609338  9.660573  9.115923   9.834625\n",
      "Total user costs = 143431.92451870034\n"
     ]
    }
   ],
   "source": [
    "scheduleModification = TransitScheduleModification([200.0], [(\"A\", \"bus\")])\n",
    "model.modifyNetworks(scheduleModification = scheduleModification)\n",
    "userCosts, operatorCosts = model.collectAllCosts()\n",
    "modeSplit = model.getModeSplit('AM-Peak')\n",
    "speeds = model.getModeSpeeds('AM-Peak')\n",
    "print(modeSplit)\n",
    "print(speeds)\n",
    "print(\"Total user costs =\", userCosts.total)"
   ]
  },
  {
   "cell_type": "markdown",
   "metadata": {},
   "source": [
    "Here, we can see that the bus mode share went up (because of lower wait times). In addition, bus speeds in microtype A increased because there was less crowding on each bus, but bus speeds slightly decreased in the other microtypes because of the increase in bus ridership without a corresponding decrease in headways."
   ]
  },
  {
   "cell_type": "markdown",
   "metadata": {},
   "source": [
    "## Optimization wrapper\n",
    "\n",
    "In order to run optimization on the model, we can create an \"Optimizer\" object that contains a model implementation as well as a direct pathway to modifying model parameters.\n",
    "\n"
   ]
  },
  {
   "cell_type": "code",
   "execution_count": 6,
   "metadata": {},
   "outputs": [
    {
     "name": "stdout",
     "output_type": "stream",
     "text": [
      "Done\n"
     ]
    }
   ],
   "source": [
    "networksToReallocate = list(zip([2, 4, 6, 8], [13, 14, 15, 16]))\n",
    "modesToModify = list(zip([\"A\", \"B\", \"C\", \"D\"], [\"bus\", \"bus\", \"bus\", \"bus\"]))\n",
    "    \n",
    "o = Optimizer(\"input-data\",fromToSubNetworkIDs= networksToReallocate,\n",
    "                  modesAndMicrotypes= modesToModify,\n",
    "                  method=\"noisy\")\n",
    "default = o.x0()"
   ]
  },
  {
   "cell_type": "markdown",
   "metadata": {},
   "source": [
    "Once this model is initialized, we can evaluate the total costs in the base, unmodified state"
   ]
  },
  {
   "cell_type": "code",
   "execution_count": 7,
   "metadata": {},
   "outputs": [
    {
     "name": "stdout",
     "output_type": "stream",
     "text": [
      "[ 10.  10.  10.  10. 300. 300. 300. 300.]\n",
      "132661.86760340078\n"
     ]
    },
    {
     "data": {
      "text/plain": [
       "132661.86760340078"
      ]
     },
     "execution_count": 7,
     "metadata": {},
     "output_type": "execute_result"
    }
   ],
   "source": [
    "o.evaluate(default)"
   ]
  },
  {
   "cell_type": "markdown",
   "metadata": {},
   "source": [
    "Looking in the optimizer, we can get the state of the transportation system given the input control variable"
   ]
  },
  {
   "cell_type": "code",
   "execution_count": 8,
   "metadata": {},
   "outputs": [
    {
     "name": "stdout",
     "output_type": "stream",
     "text": [
      "['walk: 0.019957084426933676', 'bus: 0.07154931630091255', 'rail: 0.2997331140149221', 'auto: 0.6087604852572313']\n",
      "              A          B         C          D\n",
      "walk   1.400000   1.400000  1.400000   1.400000\n",
      "bus    7.476484   6.974895  7.029347   8.181203\n",
      "rail  15.000000        NaN       NaN  20.000000\n",
      "auto  11.731405  10.316649  9.099427   9.788432\n"
     ]
    }
   ],
   "source": [
    "modeSplit = o.model.getModeSplit('AM-Peak')\n",
    "speeds = o.model.getModeSpeeds('AM-Peak')\n",
    "print(modeSplit)\n",
    "print(speeds)"
   ]
  },
  {
   "cell_type": "markdown",
   "metadata": {},
   "source": [
    "We can use this to look at the model performance under a range of inputs. Here we vary headway for buses in microtype A"
   ]
  },
  {
   "cell_type": "code",
   "execution_count": 9,
   "metadata": {},
   "outputs": [
    {
     "name": "stdout",
     "output_type": "stream",
     "text": [
      "[ 10.  10.  10.  10. 180. 300. 300. 300.]\n",
      "135096.15378874243\n",
      "[ 10.  10.  10.  10. 240. 300. 300. 300.]\n",
      "133312.7980375025\n",
      "[ 10.  10.  10.  10. 300. 300. 300. 300.]\n",
      "132596.5910355034\n",
      "[ 10.  10.  10.  10. 360. 300. 300. 300.]\n",
      "132357.44712416598\n",
      "[ 10.  10.  10.  10. 420. 300. 300. 300.]\n",
      "132363.9609248653\n",
      "[ 10.  10.  10.  10. 480. 300. 300. 300.]\n",
      "132503.77897674165\n",
      "[ 10.  10.  10.  10. 540. 300. 300. 300.]\n",
      "132717.70710533936\n",
      "[ 10.  10.  10.  10. 600. 300. 300. 300.]\n",
      "132972.28302545712\n",
      "[ 10.  10.  10.  10. 660. 300. 300. 300.]\n",
      "133247.41555888316\n",
      "[ 10.  10.  10.  10. 720. 300. 300. 300.]\n",
      "133531.5387460912\n",
      "[ 10.  10.  10.  10. 780. 300. 300. 300.]\n",
      "133817.0503763516\n",
      "[ 10.  10.  10.  10. 840. 300. 300. 300.]\n",
      "134099.17150535737\n",
      "[ 10.  10.  10.  10. 900. 300. 300. 300.]\n",
      "134375.43031965275\n",
      "[ 10.  10.  10.  10. 960. 300. 300. 300.]\n",
      "134643.3202367464\n",
      "[  10.   10.   10.   10. 1020.  300.  300.  300.]\n",
      "134901.93635947353\n",
      "[  10.   10.   10.   10. 1080.  300.  300.  300.]\n",
      "135152.0850364584\n",
      "[  10.   10.   10.   10. 1140.  300.  300.  300.]\n",
      "135391.90106945668\n",
      "[  10.   10.   10.   10. 1200.  300.  300.  300.]\n",
      "135622.4363871315\n"
     ]
    },
    {
     "data": {
      "text/plain": [
       "Text(0, 0.5, 'Total Cost')"
      ]
     },
     "execution_count": 9,
     "metadata": {},
     "output_type": "execute_result"
    },
    {
     "data": {
      "image/png": "[encoded data removed]",
      "text/plain": [
       "<Figure size 432x288 with 1 Axes>"
      ]
     },
     "metadata": {
      "needs_background": "light"
     },
     "output_type": "display_data"
    }
   ],
   "source": [
    "    busHeadwayA = np.arange(180, 1260, 60)\n",
    "    speeds = dict()\n",
    "    modeSplits = dict()\n",
    "    totalCost = []\n",
    "    for hw in busHeadwayA:\n",
    "        default[4] = hw\n",
    "        cost = o.evaluate(default)\n",
    "        totalCost.append(cost)\n",
    "        speeds[str(hw)] = o.model.getModeSpeeds('AM-Peak').stack()\n",
    "        modeSplits[str(hw)] = pd.Series(o.model.getModeSplit('AM-Peak').toDict())\n",
    "        \n",
    "    speeds = pd.DataFrame(speeds).transpose()\n",
    "    modeSplits = pd.DataFrame(modeSplits).transpose()\n",
    "    \n",
    "    plt.scatter(busHeadwayA, totalCost)\n",
    "    plt.xlabel(\"Bus headway in Microtype A (sec)\")\n",
    "    plt.ylabel(\"Total Cost\")"
   ]
  },
  {
   "cell_type": "markdown",
   "metadata": {},
   "source": [
    "We can plot mode splits and speeds in the different microtypes"
   ]
  },
  {
   "cell_type": "code",
   "execution_count": 10,
   "metadata": {},
   "outputs": [
    {
     "data": {
      "text/plain": [
       "<matplotlib.legend.Legend at 0x7fb0f9508a50>"
      ]
     },
     "execution_count": 10,
     "metadata": {},
     "output_type": "execute_result"
    },
    {
     "data": {
      "image/png": "[encoded data removed]",
      "text/plain": [
       "<Figure size 432x288 with 1 Axes>"
      ]
     },
     "metadata": {
      "needs_background": "light"
     },
     "output_type": "display_data"
    }
   ],
   "source": [
    "plt.scatter(busHeadwayA, modeSplits[\"bus\"], label=\"Bus\")\n",
    "plt.scatter(busHeadwayA, modeSplits[\"auto\"], label=\"Auto\")\n",
    "plt.scatter(busHeadwayA, modeSplits[\"walk\"], label=\"Walk\")\n",
    "plt.scatter(busHeadwayA, modeSplits[\"rail\"], label=\"Rail\")\n",
    "plt.xlabel(\"Bus headway in Microtype A (sec)\")\n",
    "plt.ylabel(\"Mode split\")\n",
    "plt.legend()"
   ]
  },
  {
   "cell_type": "code",
   "execution_count": 11,
   "metadata": {},
   "outputs": [
    {
     "data": {
      "text/plain": [
       "<matplotlib.legend.Legend at 0x7fb0f95ffed0>"
      ]
     },
     "execution_count": 11,
     "metadata": {},
     "output_type": "execute_result"
    },
    {
     "data": {
      "image/png": "[encoded data removed]",
      "text/plain": [
       "<Figure size 432x288 with 1 Axes>"
      ]
     },
     "metadata": {
      "needs_background": "light"
     },
     "output_type": "display_data"
    }
   ],
   "source": [
    "plt.scatter(busHeadwayA, speeds[(\"bus\", \"A\")], marker='s', label=\"Bus speed\")\n",
    "plt.scatter(busHeadwayA, speeds[(\"auto\", \"A\")], label=\"Auto speed A\")\n",
    "plt.scatter(busHeadwayA, speeds[(\"auto\", \"B\")], label=\"Auto speed B\", s=10)\n",
    "plt.scatter(busHeadwayA, speeds[(\"auto\", \"C\")], label=\"Auto speed C\", s=10)\n",
    "plt.scatter(busHeadwayA, speeds[(\"auto\", \"D\")], label=\"Auto speed D\", s=10)\n",
    "plt.xlabel(\"Bus headway in Microtype A (sec)\")\n",
    "plt.ylabel(\"Speed (m/s)\")\n",
    "plt.legend()"
   ]
  },
  {
   "cell_type": "markdown",
   "metadata": {},
   "source": [
    "We can also vary lane dedication (this is still a little wonky)"
   ]
  },
  {
   "cell_type": "code",
   "execution_count": 12,
   "metadata": {},
   "outputs": [
    {
     "name": "stdout",
     "output_type": "stream",
     "text": [
      "[  0.  10.  10.  10. 300. 300. 300. 300.]\n",
      "132215.59240969544\n",
      "[100.  10.  10.  10. 300. 300. 300. 300.]\n",
      "132193.68120576112\n",
      "[200.  10.  10.  10. 300. 300. 300. 300.]\n",
      "132123.82074605062\n",
      "[300.  10.  10.  10. 300. 300. 300. 300.]\n",
      "132004.22461376622\n",
      "[400.  10.  10.  10. 300. 300. 300. 300.]\n",
      "131832.38185990963\n",
      "[500.  10.  10.  10. 300. 300. 300. 300.]\n",
      "131601.44826275413\n",
      "[600.  10.  10.  10. 300. 300. 300. 300.]\n",
      "131303.31290713415\n",
      "[700.  10.  10.  10. 300. 300. 300. 300.]\n",
      "130924.94021434711\n",
      "[800.  10.  10.  10. 300. 300. 300. 300.]\n",
      "130444.37127931659\n",
      "[900.  10.  10.  10. 300. 300. 300. 300.]\n",
      "129817.62282105566\n"
     ]
    },
    {
     "data": {
      "text/plain": [
       "Text(0, 0.5, 'Total Cost')"
      ]
     },
     "execution_count": 12,
     "metadata": {},
     "output_type": "execute_result"
    },
    {
     "data": {
      "image/png": "[encoded data removed]",
      "text/plain": [
       "<Figure size 432x288 with 1 Axes>"
      ]
     },
     "metadata": {
      "needs_background": "light"
     },
     "output_type": "display_data"
    }
   ],
   "source": [
    "    default = o.x0()\n",
    "    laneDedication = np.arange(0, 1000, 100)\n",
    "    speeds = dict()\n",
    "    modeSplits = dict()\n",
    "    totalCost = []\n",
    "    for ded in laneDedication:\n",
    "        default[0] = ded\n",
    "        cost = o.evaluate(default)\n",
    "        totalCost.append(cost)\n",
    "        speeds[str(ded)] = o.model.getModeSpeeds('AM-Peak').stack()\n",
    "        modeSplits[str(ded)] = pd.Series(o.model.getModeSplit('AM-Peak').toDict())\n",
    "        \n",
    "    speeds = pd.DataFrame(speeds).transpose()\n",
    "    modeSplits = pd.DataFrame(modeSplits).transpose()\n",
    "    \n",
    "    \n",
    "    plt.scatter(laneDedication, totalCost)\n",
    "    plt.xlabel(\"Bus dedicated lanes in Microtype A (m)\")\n",
    "    plt.ylabel(\"Total Cost\")"
   ]
  },
  {
   "cell_type": "code",
   "execution_count": 13,
   "metadata": {},
   "outputs": [
    {
     "data": {
      "text/plain": [
       "<matplotlib.legend.Legend at 0x7fb0f990d290>"
      ]
     },
     "execution_count": 13,
     "metadata": {},
     "output_type": "execute_result"
    },
    {
     "data": {
      "image/png": "[encoded data removed]",
      "text/plain": [
       "<Figure size 432x288 with 1 Axes>"
      ]
     },
     "metadata": {
      "needs_background": "light"
     },
     "output_type": "display_data"
    }
   ],
   "source": [
    "plt.scatter(laneDedication, speeds[(\"bus\", \"A\")], marker='s', label=\"Bus speed\")\n",
    "plt.scatter(laneDedication, speeds[(\"auto\", \"A\")], label=\"Auto speed A\")\n",
    "plt.scatter(laneDedication, speeds[(\"auto\", \"B\")], label=\"Auto speed B\", s=10)\n",
    "plt.scatter(laneDedication, speeds[(\"auto\", \"C\")], label=\"Auto speed C\", s=10)\n",
    "plt.scatter(laneDedication, speeds[(\"auto\", \"D\")], label=\"Auto speed D\", s=10)\n",
    "plt.xlabel(\"Bus dedicated lanes in Microtype A (m)\")\n",
    "plt.ylabel(\"Speed (m/s)\")\n",
    "plt.legend()"
   ]
  },
  {
   "cell_type": "code",
   "execution_count": null,
   "metadata": {},
   "outputs": [],
   "source": []
  }
 ],
 "metadata": {
  "kernelspec": {
   "display_name": "Python 3",
   "language": "python",
   "name": "python3"
  },
  "language_info": {
   "codemirror_mode": {
    "name": "ipython",
    "version": 3
   },
   "file_extension": ".py",
   "mimetype": "text/x-python",
   "name": "python",
   "nbconvert_exporter": "python",
   "pygments_lexer": "ipython3",
   "version": "3.7.7"
  }
 },
 "nbformat": 4,
 "nbformat_minor": 4
}
