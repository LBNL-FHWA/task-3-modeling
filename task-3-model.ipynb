{
 "cells": [
  {
   "cell_type": "markdown",
   "metadata": {},
   "source": [
    "# Task 3 model implementation"
   ]
  },
  {
   "cell_type": "code",
   "execution_count": null,
   "metadata": {},
   "outputs": [],
   "source": [
    "import numpy as np\n",
    "import pandas as pd\n",
    "\n",
    "from model import Model, Optimizer, NetworkModification, TransitScheduleModification"
   ]
  },
  {
   "cell_type": "markdown",
   "metadata": {},
   "source": [
    "Creating a model implementation only requires pointing to a folder with all the necessary input data. Here, we have a region with 4 microtypes and four modes (walk, bus, auto, and rail), with rail only service two of the four microtypes\n",
    "\n",
    "Once the model is created, you find supply/demand equilibrium and gather statistics such as mode splits, speeds, and user costs for an individual time period or for the whole day."
   ]
  },
  {
   "cell_type": "code",
   "execution_count": null,
   "metadata": {},
   "outputs": [],
   "source": [
    "model = Model(\"input-data\")\n",
    "\n",
    "userCosts, operatorCosts = model.collectAllCosts()\n",
    "modeSplit = model.getModeSplit('AM-Peak')\n",
    "speeds = model.getModeSpeeds('AM-Peak')\n",
    "print(modeSplit)\n",
    "print(speeds)\n",
    "print(\"Total user costs =\", userCosts.total)"
   ]
  },
  {
   "cell_type": "markdown",
   "metadata": {},
   "source": [
    "Once a model is created, there are a set of objects and methods that make it easy to modify the transportation system without needing to change the original input files.\n",
    "\n",
    "Here, we will devote some road space to dedicated bus lanes. In particular, we are transitioning 1000 lane-meters of roadway from mixed bus/car traffic to bus-only lanes in microtypes A and B:"
   ]
  },
  {
   "cell_type": "code",
   "execution_count": null,
   "metadata": {},
   "outputs": [],
   "source": [
    "networkModification = NetworkModification(np.array([1000., 1000.]), list(zip([2, 4], [13, 14])))\n",
    "model.modifyNetworks(networkModification = networkModification)"
   ]
  },
  {
   "cell_type": "markdown",
   "metadata": {},
   "source": [
    "Once these changes are made, we can re-equilibrate the model and look at how metrics have changed. Here, we have (slightly) increased the bus mode share, in large part by increasing average bus speed in Microtypes A and B. However, because we have decreased auto speeds in these two microtypes, total user costs have gone up."
   ]
  },
  {
   "cell_type": "code",
   "execution_count": null,
   "metadata": {},
   "outputs": [],
   "source": [
    "userCosts, operatorCosts = model.collectAllCosts()\n",
    "modeSplit = model.getModeSplit('AM-Peak')\n",
    "speeds = model.getModeSpeeds('AM-Peak')\n",
    "print(modeSplit)\n",
    "print(speeds)\n",
    "print(\"Total user costs =\", userCosts.total)"
   ]
  },
  {
   "cell_type": "markdown",
   "metadata": {},
   "source": [
    "You can also modify the headways for the different transit modes. Here, we can decrease the headway of the bus mode in Microtype A to 200 seconds."
   ]
  },
  {
   "cell_type": "code",
   "execution_count": null,
   "metadata": {},
   "outputs": [],
   "source": [
    "scheduleModification = TransitScheduleModification([200.0], [(\"A\", \"bus\")])\n",
    "model.modifyNetworks(scheduleModification = scheduleModification)\n",
    "userCosts, operatorCosts = model.collectAllCosts()\n",
    "modeSplit = model.getModeSplit('AM-Peak')\n",
    "speeds = model.getModeSpeeds('AM-Peak')\n",
    "print(modeSplit)\n",
    "print(speeds)\n",
    "print(\"Total user costs =\", userCosts.total)"
   ]
  },
  {
   "cell_type": "markdown",
   "metadata": {},
   "source": [
    "Here, we can see that the bus mode share went up (because of lower wait times). In addition, bus speeds in microtype A increased because there was less crowding on each bus, but bus speeds slightly decreased in the other microtypes because of the increase in bus ridership without a corresponding decrease in headways."
   ]
  },
  {
   "cell_type": "code",
   "execution_count": null,
   "metadata": {},
   "outputs": [],
   "source": [
    "print(model.getModeSpeeds('Overnight'))"
   ]
  },
  {
   "cell_type": "code",
   "execution_count": null,
   "metadata": {},
   "outputs": [],
   "source": [
    "    o = Optimizer(\"input-data\",\n",
    "                  modesAndMicrotypes=list(zip([\"A\", \"B\", \"C\", \"D\"], [\"bus\", \"bus\", \"bus\", \"bus\"])),\n",
    "                  method=\"noisy\")\n",
    "    output = o.minimize()"
   ]
  },
  {
   "cell_type": "code",
   "execution_count": null,
   "metadata": {},
   "outputs": [],
   "source": []
  }
 ],
 "metadata": {
  "kernelspec": {
   "display_name": "Python 3",
   "language": "python",
   "name": "python3"
  },
  "language_info": {
   "codemirror_mode": {
    "name": "ipython",
    "version": 3
   },
   "file_extension": ".py",
   "mimetype": "text/x-python",
   "name": "python",
   "nbconvert_exporter": "python",
   "pygments_lexer": "ipython3",
   "version": "3.7.7"
  }
 },
 "nbformat": 4,
 "nbformat_minor": 4
}
